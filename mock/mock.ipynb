{
 "cells": [
  {
   "cell_type": "markdown",
   "metadata": {},
   "source": [
    "# Test"
   ]
  },
  {
   "cell_type": "code",
   "execution_count": 2,
   "metadata": {},
   "outputs": [],
   "source": [
    "import os\n",
    "import sys\n",
    "import psycopg2"
   ]
  },
  {
   "cell_type": "code",
   "execution_count": 3,
   "metadata": {},
   "outputs": [
    {
     "data": {
      "text/plain": [
       "True"
      ]
     },
     "execution_count": 3,
     "metadata": {},
     "output_type": "execute_result"
    }
   ],
   "source": [
    "from dotenv import load_dotenv  # test\n",
    "load_dotenv()  # test\n",
    "sys.argv[1] = 'flis'  # test"
   ]
  },
  {
   "cell_type": "code",
   "execution_count": 4,
   "metadata": {},
   "outputs": [],
   "source": [
    "dbname = sys.argv[1]\n",
    "user = os.environ.get('PGUSER')\n",
    "password = os.environ.get('PGPASSWORD')\n",
    "host = os.environ.get('PGHOST')\n",
    "port = os.environ.get('PGPORT')"
   ]
  },
  {
   "cell_type": "code",
   "execution_count": 5,
   "metadata": {},
   "outputs": [],
   "source": [
    "connection = psycopg2.connect(dbname=dbname,\n",
    "                              user=user,\n",
    "                              password=password,\n",
    "                              host=host,\n",
    "                              port=port)\n",
    "cursor = connection.cursor()"
   ]
  },
  {
   "cell_type": "code",
   "execution_count": 6,
   "metadata": {},
   "outputs": [],
   "source": [
    "query = \"select * from players where name like 'J%';\"\n",
    "cursor.execute(query)\n",
    "result = cursor.fetchall()"
   ]
  },
  {
   "cell_type": "code",
   "execution_count": 7,
   "metadata": {},
   "outputs": [
    {
     "data": {
      "text/plain": [
       "'A. E.'"
      ]
     },
     "execution_count": 7,
     "metadata": {},
     "output_type": "execute_result"
    }
   ],
   "source": [
    "def format_name(name):\n",
    "  first = name[0]\n",
    "  last = name[-1].upper()\n",
    "  return f'{first}. {last}.'\n",
    "\n",
    "\n",
    "format_name('Apple')"
   ]
  },
  {
   "cell_type": "code",
   "execution_count": 8,
   "metadata": {},
   "outputs": [
    {
     "name": "stdout",
     "output_type": "stream",
     "text": [
      "J. Y.\n",
      "J. H.\n",
      "J. S.\n",
      "J. K.\n",
      "J. A.\n",
      "J. K.\n",
      "J. Y.\n"
     ]
    }
   ],
   "source": [
    "for row in result:\n",
    "  name = row[1]\n",
    "  print(format_name(name))"
   ]
  },
  {
   "cell_type": "markdown",
   "metadata": {},
   "source": [
    "# Mock 1"
   ]
  },
  {
   "cell_type": "code",
   "execution_count": 9,
   "metadata": {},
   "outputs": [
    {
     "data": {
      "text/plain": [
       "True"
      ]
     },
     "execution_count": 9,
     "metadata": {},
     "output_type": "execute_result"
    }
   ],
   "source": [
    "from dotenv import load_dotenv  # test\n",
    "load_dotenv()  # test\n",
    "sys.argv[1] = 'lis'  # test"
   ]
  },
  {
   "cell_type": "code",
   "execution_count": 10,
   "metadata": {},
   "outputs": [],
   "source": [
    "import os\n",
    "import sys\n",
    "import psycopg2"
   ]
  },
  {
   "cell_type": "code",
   "execution_count": 11,
   "metadata": {},
   "outputs": [],
   "source": [
    "dbname = sys.argv[1]\n",
    "user = os.environ.get('PGUSER')\n",
    "password = os.environ.get('PGPASSWORD')\n",
    "host = os.environ.get('PGHOST')\n",
    "port = os.environ.get('PGPORT')"
   ]
  },
  {
   "cell_type": "code",
   "execution_count": 12,
   "metadata": {},
   "outputs": [],
   "source": [
    "connection = psycopg2.connect(dbname=dbname,\n",
    "                              user=user,\n",
    "                              password=password,\n",
    "                              host=host,\n",
    "                              port=port)\n",
    "cursor = connection.cursor()"
   ]
  },
  {
   "cell_type": "code",
   "execution_count": 13,
   "metadata": {},
   "outputs": [],
   "source": [
    "file = open('number.txt')\n",
    "x = file.read()\n",
    "x = int(x)\n",
    "year = 2000 + 5 * x"
   ]
  },
  {
   "cell_type": "code",
   "execution_count": 14,
   "metadata": {},
   "outputs": [
    {
     "name": "stdout",
     "output_type": "stream",
     "text": [
      "9789388176644\n"
     ]
    }
   ],
   "source": [
    "query = f\"select isbn_no from book_catalogue where year = {year}\"\n",
    "cursor.execute(query)\n",
    "result = cursor.fetchall()\n",
    "for row in result:\n",
    "  print(row[0])"
   ]
  },
  {
   "cell_type": "markdown",
   "metadata": {},
   "source": [
    "# Mock 2"
   ]
  },
  {
   "cell_type": "code",
   "execution_count": 15,
   "metadata": {},
   "outputs": [
    {
     "data": {
      "text/plain": [
       "True"
      ]
     },
     "execution_count": 15,
     "metadata": {},
     "output_type": "execute_result"
    }
   ],
   "source": [
    "from dotenv import load_dotenv  # test\n",
    "load_dotenv()  # test\n",
    "sys.argv[1] = 'flis'  # test"
   ]
  },
  {
   "cell_type": "code",
   "execution_count": 16,
   "metadata": {},
   "outputs": [],
   "source": [
    "import os\n",
    "import sys\n",
    "import psycopg2"
   ]
  },
  {
   "cell_type": "code",
   "execution_count": 17,
   "metadata": {},
   "outputs": [],
   "source": [
    "dbname = sys.argv[1]\n",
    "user = os.environ.get('PGUSER')\n",
    "password = os.environ.get('PGPASSWORD')\n",
    "host = os.environ.get('PGHOST')\n",
    "port = os.environ.get('PGPORT')"
   ]
  },
  {
   "cell_type": "code",
   "execution_count": 18,
   "metadata": {},
   "outputs": [],
   "source": [
    "connection = psycopg2.connect(dbname=dbname,\n",
    "                              user=user,\n",
    "                              password=password,\n",
    "                              host=host,\n",
    "                              port=port)\n",
    "\n",
    "cursor = connection.cursor()"
   ]
  },
  {
   "cell_type": "code",
   "execution_count": 19,
   "metadata": {},
   "outputs": [],
   "source": [
    "file = open('date.txt')\n",
    "date = file.read()"
   ]
  },
  {
   "cell_type": "code",
   "execution_count": 20,
   "metadata": {},
   "outputs": [],
   "source": [
    "# 2020-05-06\n",
    "query = f\"select referees.name from matches \\\n",
    "          inner join match_referees using (match_num) \\\n",
    "          inner join referees on match_referees.referee = referees.referee_id \\\n",
    "          where match_date = '{date}';\"\n",
    "\n",
    "cursor.execute(query)\n",
    "result = cursor.fetchall()"
   ]
  },
  {
   "cell_type": "code",
   "execution_count": 21,
   "metadata": {},
   "outputs": [
    {
     "data": {
      "text/plain": [
       "'Sarkar A. K.'"
      ]
     },
     "execution_count": 21,
     "metadata": {},
     "output_type": "execute_result"
    },
    {
     "data": {
      "text/plain": [
       "'Sapam K. '"
      ]
     },
     "execution_count": 21,
     "metadata": {},
     "output_type": "execute_result"
    }
   ],
   "source": [
    "def format_name(name):\n",
    "  name = name.split()\n",
    "  new_name = f'{name[-1]} {name[0][0]}. '\n",
    "  if len(name) == 3:\n",
    "    new_name += f'{name[1][0]}.'\n",
    "\n",
    "  return new_name\n",
    "\n",
    "\n",
    "format_name('Asit Kumar Sarkar')\n",
    "format_name('Kennedy Sapam')\n",
    "# Sarkar A. K."
   ]
  },
  {
   "cell_type": "code",
   "execution_count": 22,
   "metadata": {},
   "outputs": [
    {
     "name": "stdout",
     "output_type": "stream",
     "text": [
      "Louis T. J.\n"
     ]
    }
   ],
   "source": [
    "for row in result:\n",
    "  name = row[0]\n",
    "  print(format_name(name))"
   ]
  },
  {
   "cell_type": "markdown",
   "metadata": {},
   "source": [
    "# Practice 3"
   ]
  },
  {
   "cell_type": "code",
   "execution_count": 23,
   "metadata": {},
   "outputs": [
    {
     "name": "stdout",
     "output_type": "stream",
     "text": [
      "14\n"
     ]
    }
   ],
   "source": [
    "import os\n",
    "import sys\n",
    "import psycopg2\n",
    "\n",
    "dbname = sys.argv[1]\n",
    "user = os.environ.get('PGUSER')\n",
    "password = os.environ.get('PGPASSWORD')\n",
    "host = os.environ.get('PGHOST')\n",
    "port = os.environ.get('PGPORT')\n",
    "\n",
    "connection = psycopg2.connect(dbname=dbname,\n",
    "                              user=user,\n",
    "                              password=password,\n",
    "                              host=host,\n",
    "                              port=port)\n",
    "cursor = connection.cursor()\n",
    "file = open('player.txt')\n",
    "name = file.read()\n",
    "\n",
    "query = f\"select jersey_no from players where name = '{name}';\"\n",
    "cursor.execute(query)\n",
    "result = cursor.fetchall()\n",
    "\n",
    "for row in result:\n",
    "  print(row[0])"
   ]
  },
  {
   "cell_type": "code",
   "execution_count": 24,
   "metadata": {},
   "outputs": [
    {
     "data": {
      "text/plain": [
       "True"
      ]
     },
     "execution_count": 24,
     "metadata": {},
     "output_type": "execute_result"
    }
   ],
   "source": [
    "from dotenv import load_dotenv  # test\n",
    "load_dotenv()  # test\n",
    "sys.argv[1] = 'flis'  # test"
   ]
  },
  {
   "cell_type": "code",
   "execution_count": 25,
   "metadata": {},
   "outputs": [
    {
     "name": "stdout",
     "output_type": "stream",
     "text": [
      "14\n"
     ]
    }
   ],
   "source": [
    "import os\n",
    "import sys\n",
    "import psycopg2\n",
    "\n",
    "dbname = sys.argv[1]\n",
    "user = os.environ.get('PGUSER')\n",
    "password = os.environ.get('PGPASSWORD')\n",
    "host = os.environ.get('PGHOST')\n",
    "port = os.environ.get('PGPORT')\n",
    "\n",
    "connection = psycopg2.connect(dbname=dbname,\n",
    "                              user=user,\n",
    "                              password=password,\n",
    "                              host=host,\n",
    "                              port=port\n",
    "                              )\n",
    "\n",
    "cursor = connection.cursor()\n",
    "file = open('player.txt')\n",
    "name = file.read()\n",
    "\n",
    "query = f\"select jersey_no from players where name = '{name}';\"\n",
    "cursor.execute(query)\n",
    "result = cursor.fetchall()\n",
    "\n",
    "for row in result:\n",
    "  print(row[0])"
   ]
  },
  {
   "cell_type": "markdown",
   "metadata": {},
   "source": [
    "## Practice 4"
   ]
  },
  {
   "cell_type": "code",
   "execution_count": 26,
   "metadata": {},
   "outputs": [
    {
     "data": {
      "text/plain": [
       "True"
      ]
     },
     "execution_count": 26,
     "metadata": {},
     "output_type": "execute_result"
    }
   ],
   "source": [
    "from dotenv import load_dotenv  # test\n",
    "load_dotenv()  # test\n",
    "sys.argv[1] = 'lis'  # test"
   ]
  },
  {
   "cell_type": "code",
   "execution_count": 27,
   "metadata": {},
   "outputs": [
    {
     "name": "stdout",
     "output_type": "stream",
     "text": [
      "ME03\n"
     ]
    }
   ],
   "source": [
    "import os\n",
    "import sys\n",
    "import psycopg2\n",
    "\n",
    "dbname = sys.argv[1]\n",
    "user = os.environ.get('PGUSER')\n",
    "password = os.environ.get('PGPASSWORD')\n",
    "host = os.environ.get('PGHOST')\n",
    "port = os.environ.get('PGPORT')\n",
    "\n",
    "connection = psycopg2.connect(dbname=dbname,\n",
    "                              user=user,\n",
    "                              password=password,\n",
    "                              host=host,\n",
    "                              port=port)\n",
    "\n",
    "cursor = connection.cursor()\n",
    "file = open('name.txt')\n",
    "name = file.read()\n",
    "\n",
    "query = f\"select roll_no from students where student_fname = '{name}';\"\n",
    "cursor.execute(query)\n",
    "result = cursor.fetchall()\n",
    "\n",
    "for row in result:\n",
    "  print(row[0])"
   ]
  },
  {
   "cell_type": "markdown",
   "metadata": {},
   "source": [
    "## practice 5"
   ]
  },
  {
   "cell_type": "code",
   "execution_count": 28,
   "metadata": {},
   "outputs": [],
   "source": [
    "sys.argv[1] = 'flis'  # test"
   ]
  },
  {
   "cell_type": "code",
   "execution_count": 29,
   "metadata": {},
   "outputs": [
    {
     "name": "stdout",
     "output_type": "stream",
     "text": [
      "Villa Park\n"
     ]
    }
   ],
   "source": [
    "import os\n",
    "import sys\n",
    "import psycopg2\n",
    "\n",
    "dbname = sys.argv[1]\n",
    "user = os.environ.get('PGUSER')\n",
    "password = os.environ.get('PGPASSWORD')\n",
    "host = os.environ.get('PGHOST')\n",
    "port = os.environ.get('PGPORT')\n",
    "\n",
    "connection = psycopg2.connect(dbname=dbname,\n",
    "                              user=user,\n",
    "                              password=password,\n",
    "                              host=host,\n",
    "                              port=port)\n",
    "cursor = connection.cursor()\n",
    "file = open('team.txt')\n",
    "team = file.read()\n",
    "\n",
    "\n",
    "query = f\"select playground from teams where team_id = '{team}';\"\n",
    "cursor.execute(query)\n",
    "result = cursor.fetchall()\n",
    "\n",
    "for row in result:\n",
    "  print(row[0])"
   ]
  },
  {
   "cell_type": "markdown",
   "metadata": {},
   "source": [
    "## practice 6"
   ]
  },
  {
   "cell_type": "code",
   "execution_count": 30,
   "metadata": {},
   "outputs": [],
   "source": [
    "sys.argv[1] = 'lis'  # test"
   ]
  },
  {
   "cell_type": "code",
   "execution_count": 31,
   "metadata": {},
   "outputs": [
    {
     "name": "stdout",
     "output_type": "stream",
     "text": [
      "Vijay,Mechanical Engineering,Odd\n"
     ]
    }
   ],
   "source": [
    "import os\n",
    "import sys\n",
    "import psycopg2\n",
    "\n",
    "dbname = sys.argv[1]\n",
    "user = os.environ.get('PGUSER')\n",
    "password = os.environ.get('PGPASSWORD')\n",
    "host = os.environ.get('PGHOST')\n",
    "port = os.environ.get('PGPORT')\n",
    "\n",
    "connection = psycopg2.connect(dbname=dbname,\n",
    "                              user=user,\n",
    "                              password=password,\n",
    "                              host=host,\n",
    "                              port=port)\n",
    "\n",
    "cursor = connection.cursor()\n",
    "file = open('name.txt')\n",
    "name = file.read()\n",
    "\n",
    "query = f\"select department_name,dob from students natural join \\\n",
    "          departments where student_fname = '{name}';\"\n",
    "cursor.execute(query)\n",
    "result = cursor.fetchall()\n",
    "\n",
    "for row in result:\n",
    "  dept_name = row[0]\n",
    "  dob = row[1]\n",
    "  year = dob.year\n",
    "  if year % 2 == 0:\n",
    "    temp = 'Even'\n",
    "  else:\n",
    "    temp = 'Odd'\n",
    "  print(f'{name},{dept_name},{temp}')"
   ]
  },
  {
   "cell_type": "code",
   "execution_count": 32,
   "metadata": {},
   "outputs": [
    {
     "data": {
      "text/plain": [
       "True"
      ]
     },
     "execution_count": 32,
     "metadata": {},
     "output_type": "execute_result"
    }
   ],
   "source": [
    "from dotenv import load_dotenv  # test\n",
    "load_dotenv()  # test\n",
    "sys.argv[1] = 'lis'  # test"
   ]
  },
  {
   "cell_type": "code",
   "execution_count": 33,
   "metadata": {},
   "outputs": [
    {
     "name": "stdout",
     "output_type": "stream",
     "text": [
      "Vijay,Mechanical Engineering,Odd\n"
     ]
    }
   ],
   "source": [
    "import os\n",
    "import sys\n",
    "import psycopg2\n",
    "\n",
    "dbname = sys.argv[1]\n",
    "user = os.environ.get('PGUSER')\n",
    "password = os.environ.get('PGPASSWORD')\n",
    "host = os.environ.get('PGHOST')\n",
    "port = os.environ.get('PGPORT')\n",
    "\n",
    "connection = psycopg2.connect(dbname=dbname,\n",
    "                              user=user,\n",
    "                              password=password,\n",
    "                              host=host,\n",
    "                              port=port)\n",
    "cursor = connection.cursor()\n",
    "file = open('name.txt')\n",
    "name = file.read()\n",
    "\n",
    "query = f\"select department_name,dob from students natural join departments where student_fname = '{name}' ;\"\n",
    "cursor.execute(query)\n",
    "result = cursor.fetchall()\n",
    "\n",
    "for row in result:\n",
    "  dept_name = row[0]\n",
    "  dob = row[1].year\n",
    "  if dob % 2 == 0:\n",
    "    print(f'{name},{dept_name}Even')\n",
    "  else:\n",
    "    print(f'{name},{dept_name},Odd')"
   ]
  }
 ],
 "metadata": {
  "kernelspec": {
   "display_name": "Python 3",
   "language": "python",
   "name": "python3"
  },
  "language_info": {
   "codemirror_mode": {
    "name": "ipython",
    "version": 3
   },
   "file_extension": ".py",
   "mimetype": "text/x-python",
   "name": "python",
   "nbconvert_exporter": "python",
   "pygments_lexer": "ipython3",
   "version": "3.12.4"
  }
 },
 "nbformat": 4,
 "nbformat_minor": 2
}
